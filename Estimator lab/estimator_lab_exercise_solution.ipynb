{
 "cells": [
  {
   "cell_type": "code",
   "execution_count": 32,
   "id": "49138c53",
   "metadata": {},
   "outputs": [
    {
     "name": "stdout",
     "output_type": "stream",
     "text": [
      "Requirement already satisfied: qiskit>=1 in /Library/Frameworks/Python.framework/Versions/3.12/lib/python3.12/site-packages (1.0.2)\n",
      "Requirement already satisfied: rustworkx>=0.14.0 in /Library/Frameworks/Python.framework/Versions/3.12/lib/python3.12/site-packages (from qiskit>=1) (0.14.2)\n",
      "Requirement already satisfied: numpy<2,>=1.17 in /Library/Frameworks/Python.framework/Versions/3.12/lib/python3.12/site-packages (from qiskit>=1) (1.26.0)\n",
      "Requirement already satisfied: scipy>=1.5 in /Library/Frameworks/Python.framework/Versions/3.12/lib/python3.12/site-packages (from qiskit>=1) (1.12.0)\n",
      "Requirement already satisfied: sympy>=1.3 in /Library/Frameworks/Python.framework/Versions/3.12/lib/python3.12/site-packages (from qiskit>=1) (1.12)\n",
      "Requirement already satisfied: dill>=0.3 in /Library/Frameworks/Python.framework/Versions/3.12/lib/python3.12/site-packages (from qiskit>=1) (0.3.8)\n",
      "Requirement already satisfied: python-dateutil>=2.8.0 in /Users/mariagrageragarces/Library/Python/3.12/lib/python/site-packages (from qiskit>=1) (2.8.2)\n",
      "Requirement already satisfied: stevedore>=3.0.0 in /Library/Frameworks/Python.framework/Versions/3.12/lib/python3.12/site-packages (from qiskit>=1) (5.2.0)\n",
      "Requirement already satisfied: typing-extensions in /Library/Frameworks/Python.framework/Versions/3.12/lib/python3.12/site-packages (from qiskit>=1) (4.10.0)\n",
      "Requirement already satisfied: symengine>=0.11 in /Library/Frameworks/Python.framework/Versions/3.12/lib/python3.12/site-packages (from qiskit>=1) (0.11.0)\n",
      "Requirement already satisfied: six>=1.5 in /Users/mariagrageragarces/Library/Python/3.12/lib/python/site-packages (from python-dateutil>=2.8.0->qiskit>=1) (1.16.0)\n",
      "Requirement already satisfied: pbr!=2.1.0,>=2.0.0 in /Library/Frameworks/Python.framework/Versions/3.12/lib/python3.12/site-packages (from stevedore>=3.0.0->qiskit>=1) (6.0.0)\n",
      "Requirement already satisfied: mpmath>=0.19 in /Library/Frameworks/Python.framework/Versions/3.12/lib/python3.12/site-packages (from sympy>=1.3->qiskit>=1) (1.3.0)\n",
      "Note: you may need to restart the kernel to use updated packages.\n"
     ]
    }
   ],
   "source": [
    "pip install 'qiskit>=1'"
   ]
  },
  {
   "cell_type": "markdown",
   "id": "6196753d",
   "metadata": {
    "slideshow": {
     "slide_type": "slide"
    }
   },
   "source": [
    "# Estimator lab exercise solution"
   ]
  },
  {
   "cell_type": "markdown",
   "id": "15698c4c-b0c8-4152-921d-f7f3d8c17d6c",
   "metadata": {},
   "source": [
    "When selecting a piece of chocolate candy from a box, the piece often meets our expectations. Sometimes after biting into the candy however, we find that the filling is not our favorite. This exercise leverages Qiskit Runtime and a Variational Quantum Eigensolver (VQE) to assemble a box of chocolates that hopefully meets our expectations. It uses the Qiskit Runtime Estimator to calculate the expectation values for combinations of candies in a box, and uses a Qiskit Runtime session to facilitate running a VQE algorithm to find the highest expectation value. This program draws upon code from an example that experimental physicist & IBM Quantum researcher Nick Bronn created for the [Coding with Qiskit Runtime video series](https://www.youtube.com/playlist?list=PLOFEBzvs-VvqAC8DnVoLOzg2bKE4C7ARM), specifically in [Episode 05 Primitives & Sessions](https://youtu.be/yxuH8eb4MS4?si=e3trSORNjooWlQXu)."
   ]
  },
  {
   "cell_type": "markdown",
   "id": "41170d11",
   "metadata": {
    "slideshow": {
     "slide_type": "subslide"
    }
   },
   "source": [
    "### 1. Initialize the account"
   ]
  },
  {
   "cell_type": "code",
   "execution_count": 33,
   "id": "b925385b",
   "metadata": {},
   "outputs": [],
   "source": [
    "from qiskit.circuit import Parameter, QuantumCircuit\n",
    "from qiskit.primitives import StatevectorEstimator\n",
    "from qiskit.quantum_info import Pauli, SparsePauliOp\n",
    " \n",
    "import matplotlib.pyplot as plt\n",
    "import numpy as np\n",
    " "
   ]
  },
  {
   "cell_type": "markdown",
   "id": "a18b5a44",
   "metadata": {},
   "source": [
    "TODO: which backends do we want to use?"
   ]
  },
  {
   "cell_type": "code",
   "execution_count": 34,
   "id": "1c392301-9eba-4dd5-b53a-bc122c3189a2",
   "metadata": {
    "tags": []
   },
   "outputs": [],
   "source": [
    "#service = QiskitRuntimeService(channel=\"ibm_quantum\")\n",
    "#backend = service.backend(\"ibmq_qasm_simulator\")"
   ]
  },
  {
   "cell_type": "markdown",
   "id": "3dc99a7d-dd22-4dd8-a706-f9316dfd79a4",
   "metadata": {},
   "source": [
    "### 2. Create an operator"
   ]
  },
  {
   "cell_type": "markdown",
   "id": "048a5bba-8bda-469f-9a66-cc3b1ba98b41",
   "metadata": {},
   "source": [
    "There are three pieces of chocolate candy in a box. Each piece can either have a vanilla center or a raspberry center. The user likes vanilla centers but dislikes raspberry centers, so we'll say that picking a vanilla it is worth 1 point, but picking a raspberry it is worth -1 point. To model this as an operator, we'll create three Pauli operators and sum them together. Each piece of candy in the box is represented by a qubit, and each of these Pauli's contain expectation values for their corresponding position in the box. Summing them together results in the diagonal of the operator containing eigenvalues that represent expectation values for all eight possible combinations of candy in the box. "
   ]
  },
  {
   "cell_type": "code",
   "execution_count": 35,
   "id": "c1fb098b-bcb9-4c51-a7d3-31c7d9cdf560",
   "metadata": {
    "tags": []
   },
   "outputs": [
    {
     "name": "stdout",
     "output_type": "stream",
     "text": [
      "[[ 3.+0.j  0.+0.j  0.+0.j  0.+0.j  0.+0.j  0.+0.j  0.+0.j  0.+0.j]\n",
      " [ 0.+0.j  1.+0.j  0.+0.j  0.+0.j  0.+0.j  0.+0.j  0.+0.j  0.+0.j]\n",
      " [ 0.+0.j  0.+0.j  1.+0.j  0.+0.j  0.+0.j  0.+0.j  0.+0.j  0.+0.j]\n",
      " [ 0.+0.j  0.+0.j  0.+0.j -1.+0.j  0.+0.j  0.+0.j  0.+0.j  0.+0.j]\n",
      " [ 0.+0.j  0.+0.j  0.+0.j  0.+0.j  1.+0.j  0.+0.j  0.+0.j  0.+0.j]\n",
      " [ 0.+0.j  0.+0.j  0.+0.j  0.+0.j  0.+0.j -1.+0.j  0.+0.j  0.+0.j]\n",
      " [ 0.+0.j  0.+0.j  0.+0.j  0.+0.j  0.+0.j  0.+0.j -1.+0.j  0.+0.j]\n",
      " [ 0.+0.j  0.+0.j  0.+0.j  0.+0.j  0.+0.j  0.+0.j  0.+0.j -3.+0.j]]\n"
     ]
    }
   ],
   "source": [
    "# Create an operator by summing together three Pauli operators \n",
    "choc_op = SparsePauliOp(['ZII', 'IZI', 'IIZ'])\n",
    "\n",
    "print(choc_op.to_matrix())\n"
   ]
  },
  {
   "cell_type": "markdown",
   "id": "58adaccf-0198-462b-92dd-973ac13fca19",
   "metadata": {
    "tags": []
   },
   "source": [
    "### 3. Setup and run a VQE algorithm"
   ]
  },
  {
   "cell_type": "code",
   "execution_count": 36,
   "id": "4aed98a4",
   "metadata": {},
   "outputs": [],
   "source": [
    "#pip install pylatexenc"
   ]
  },
  {
   "cell_type": "code",
   "execution_count": 37,
   "id": "eb633f6d-3398-48c4-9e54-08b79d269285",
   "metadata": {
    "tags": []
   },
   "outputs": [],
   "source": [
    "import numpy as np\n",
    "from qiskit_algorithms.optimizers import SPSA\n",
    "from qiskit.circuit.library import EfficientSU2\n",
    "#from qiskit_ibm_runtime import Session, Estimator"
   ]
  },
  {
   "cell_type": "markdown",
   "id": "93dc3a3e-ad83-45f4-82e7-1f9c905d07df",
   "metadata": {},
   "source": [
    "#### a. Create a parameterized circuit to serve as the ansatz"
   ]
  },
  {
   "cell_type": "code",
   "execution_count": 38,
   "id": "7932c40f",
   "metadata": {
    "slideshow": {
     "slide_type": "fragment"
    },
    "tags": []
   },
   "outputs": [
    {
     "data": {
      "image/png": "[encoded data removed]",
      "text/plain": [
       "<Figure size 1290.83x284.278 with 1 Axes>"
      ]
     },
     "execution_count": 38,
     "metadata": {},
     "output_type": "execute_result"
    }
   ],
   "source": [
    "ansatz = EfficientSU2(3)\n",
    "ansatz.decompose().draw('mpl')"
   ]
  },
  {
   "cell_type": "markdown",
   "id": "54fdc009-2d4d-407d-b714-f8ccda61f70e",
   "metadata": {},
   "source": [
    "#### b. Tweak some Qiskit Runtime options if desired"
   ]
  },
  {
   "cell_type": "markdown",
   "id": "9953b2c6",
   "metadata": {},
   "source": [
    "TODO: requires update - what can we tweat in qiskit 1.0?"
   ]
  },
  {
   "cell_type": "code",
   "execution_count": 39,
   "id": "9463a1ea-bc6b-4454-9c92-80d0daceacf5",
   "metadata": {
    "tags": []
   },
   "outputs": [
    {
     "data": {
      "text/plain": [
       "'\\noptions = Options()\\noptions.resilience_level = 1\\noptions.execution.shots = 1024\\n'"
      ]
     },
     "execution_count": 39,
     "metadata": {},
     "output_type": "execute_result"
    }
   ],
   "source": [
    "#from qiskit_ibm_runtime import Options\n",
    "\"\"\"\n",
    "options = Options()\n",
    "options.resilience_level = 1\n",
    "options.execution.shots = 1024\n",
    "\"\"\""
   ]
  },
  {
   "cell_type": "markdown",
   "id": "34c85b31-43f3-4552-a285-45e5b9dd81b7",
   "metadata": {},
   "source": [
    "#### c. Implement VQE leveraging Session, Estimator and an optimizer"
   ]
  },
  {
   "cell_type": "code",
   "execution_count": 40,
   "id": "2428a67f-40df-45e4-b60d-cc285343eee0",
   "metadata": {
    "tags": []
   },
   "outputs": [
    {
     "data": {
      "text/plain": [
       "'\\nwith Session(backend=backend, max_time=\"1h\") as session:\\n    estimator = Estimator(options=options)\\n    \\n    # Define a callback to print values in each iteration of the optimizer\\n    callback = lambda nfev, params, fval, step, acc: print(f\\'Evaluation {nfev}: {fval}\\')\\n    optimizer = SPSA(callback=callback, maxiter=800)\\n\\n    # Define a cost function, flipping the sign so that the optimizer maximizes the expectation value\\n    cost_func = lambda params: estimator.run(ansatz, choc_op, parameter_values=params).result().values[0] * -1\\n    result = optimizer.minimize(cost_func, x0=np.zeros(ansatz.num_parameters))\\n'"
      ]
     },
     "execution_count": 40,
     "metadata": {},
     "output_type": "execute_result"
    }
   ],
   "source": [
    "\"\"\"\n",
    "with Session(backend=backend, max_time=\"1h\") as session:\n",
    "    estimator = Estimator(options=options)\n",
    "    \n",
    "    # Define a callback to print values in each iteration of the optimizer\n",
    "    callback = lambda nfev, params, fval, step, acc: print(f'Evaluation {nfev}: {fval}')\n",
    "    optimizer = SPSA(callback=callback, maxiter=800)\n",
    "\n",
    "    # Define a cost function, flipping the sign so that the optimizer maximizes the expectation value\n",
    "    cost_func = lambda params: estimator.run(ansatz, choc_op, parameter_values=params).result().values[0] * -1\n",
    "    result = optimizer.minimize(cost_func, x0=np.zeros(ansatz.num_parameters))\n",
    "\"\"\""
   ]
  },
  {
   "cell_type": "markdown",
   "id": "795ba664",
   "metadata": {},
   "source": [
    "Task ->"
   ]
  },
  {
   "cell_type": "code",
   "execution_count": 41,
   "id": "e2554e50",
   "metadata": {},
   "outputs": [],
   "source": [
    "# Define a sweep over parameter values, where the second axis is over the (two) parameters in the circuit.\n",
    "params = np.vstack([\n",
    "    np.linspace(-np.pi, np.pi, 100),\n",
    "    np.linspace(-4 * np.pi, 4 * np.pi, 100)\n",
    "]).T\n",
    " "
   ]
  },
  {
   "cell_type": "markdown",
   "id": "79515b3a",
   "metadata": {},
   "source": [
    "<-"
   ]
  },
  {
   "cell_type": "code",
   "execution_count": 42,
   "id": "205122dd",
   "metadata": {},
   "outputs": [],
   "source": [
    "estimator = StatevectorEstimator()"
   ]
  },
  {
   "cell_type": "code",
   "execution_count": 43,
   "id": "e7831a75",
   "metadata": {},
   "outputs": [],
   "source": [
    "# Define a callback to print values in each iteration of the optimizer\n",
    "callback = lambda nfev, params, fval, step, acc: print(f'Evaluation {nfev}: {fval}')\n",
    "optimizer = SPSA(callback=callback, maxiter=800)"
   ]
  },
  {
   "cell_type": "code",
   "execution_count": 44,
   "id": "cbf3b40c",
   "metadata": {},
   "outputs": [],
   "source": [
    "# Define a cost function, flipping the sign so that the optimizer maximizes the expectation value\n",
    "pub = (ansatz, choc_op, params)\n",
    "cost_func = lambda params: estimator.run([pub]) #.result().values[0] * -1\n"
   ]
  },
  {
   "cell_type": "code",
   "execution_count": 47,
   "id": "50daa4a0",
   "metadata": {},
   "outputs": [
    {
     "ename": "AttributeError",
     "evalue": "'function' object has no attribute 'result'",
     "output_type": "error",
     "traceback": [
      "\u001b[0;31m---------------------------------------------------------------------------\u001b[0m",
      "\u001b[0;31mAttributeError\u001b[0m                            Traceback (most recent call last)",
      "Cell \u001b[0;32mIn[47], line 1\u001b[0m\n\u001b[0;32m----> 1\u001b[0m cost_func_updated \u001b[38;5;241m=\u001b[39m \u001b[43mcost_func\u001b[49m\u001b[38;5;241;43m.\u001b[39;49m\u001b[43mresult\u001b[49m()\u001b[38;5;241m.\u001b[39mvalues[\u001b[38;5;241m0\u001b[39m] \u001b[38;5;241m*\u001b[39m \u001b[38;5;241m-\u001b[39m\u001b[38;5;241m1\u001b[39m\n\u001b[1;32m      2\u001b[0m result \u001b[38;5;241m=\u001b[39m optimizer\u001b[38;5;241m.\u001b[39mminimize(cost_func_updated, x0\u001b[38;5;241m=\u001b[39mnp\u001b[38;5;241m.\u001b[39mzeros(ansatz\u001b[38;5;241m.\u001b[39mnum_parameters))\n",
      "\u001b[0;31mAttributeError\u001b[0m: 'function' object has no attribute 'result'"
     ]
    }
   ],
   "source": [
    "cost_func_updated = cost_func.result().values[0] * -1\n",
    "result = optimizer.minimize(cost_func_updated, x0=np.zeros(ansatz.num_parameters))"
   ]
  },
  {
   "cell_type": "markdown",
   "id": "30cb5f9e-1a1b-405e-aa0a-899bd7911e8d",
   "metadata": {},
   "source": [
    "#### d. Print and plot the results"
   ]
  },
  {
   "cell_type": "code",
   "execution_count": null,
   "id": "637c78a9-15f8-40e2-bb23-7273132c1f6a",
   "metadata": {
    "tags": []
   },
   "outputs": [
    {
     "ename": "NameError",
     "evalue": "name 'result' is not defined",
     "output_type": "error",
     "traceback": [
      "\u001b[0;31m---------------------------------------------------------------------------\u001b[0m",
      "\u001b[0;31mNameError\u001b[0m                                 Traceback (most recent call last)",
      "Cell \u001b[0;32mIn[19], line 1\u001b[0m\n\u001b[0;32m----> 1\u001b[0m \u001b[38;5;28mprint\u001b[39m(\u001b[43mresult\u001b[49m)\n",
      "\u001b[0;31mNameError\u001b[0m: name 'result' is not defined"
     ]
    }
   ],
   "source": [
    "print(result)"
   ]
  },
  {
   "cell_type": "code",
   "execution_count": null,
   "id": "de930d6f-931b-4f5d-af26-c6d337a493c0",
   "metadata": {},
   "outputs": [
    {
     "data": {
      "text/plain": [
       "<matplotlib.legend.Legend at 0x7f5f6396bd60>"
      ]
     },
     "execution_count": 18,
     "metadata": {},
     "output_type": "execute_result"
    },
    {
     "data": {
      "image/png": "[encoded data removed]",
      "text/plain": [
       "<Figure size 640x480 with 1 Axes>"
      ]
     },
     "metadata": {},
     "output_type": "display_data"
    }
   ],
   "source": [
    "import matplotlib.pyplot as plt\n",
    "\n",
    "jobs = service.jobs(session_id=session.session_id, limit=None)\n",
    "expectations = [job.result().values[0] for job in jobs if job.done()][::-1]\n",
    "\n",
    "plt.plot(range(len(expectations)), expectations, label='backend')\n",
    "plt.plot(range(len(expectations)), [3.0]*len(expectations), ls='--', label='exact')\n",
    "plt.xlabel('Iteration', fontsize=16)\n",
    "plt.ylabel('Expectation', fontsize=16)\n",
    "plt.legend(loc='lower right')"
   ]
  },
  {
   "cell_type": "code",
   "execution_count": null,
   "id": "a4f9d47d-6621-416f-bbd8-715d79609d2f",
   "metadata": {},
   "outputs": [],
   "source": []
  }
 ],
 "metadata": {
  "kernelspec": {
   "display_name": "Python 3 (ipykernel)",
   "language": "python",
   "name": "python3"
  },
  "language_info": {
   "codemirror_mode": {
    "name": "ipython",
    "version": 3
   },
   "file_extension": ".py",
   "mimetype": "text/x-python",
   "name": "python",
   "nbconvert_exporter": "python",
   "pygments_lexer": "ipython3",
   "version": "3.12.0"
  },
  "widgets": {
   "application/vnd.jupyter.widget-state+json": {
    "state": {},
    "version_major": 2,
    "version_minor": 0
   }
  }
 },
 "nbformat": 4,
 "nbformat_minor": 5
}
